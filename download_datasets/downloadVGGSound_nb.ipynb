{
 "cells": [
  {
   "cell_type": "code",
   "execution_count": 9,
   "metadata": {},
   "outputs": [
    {
     "ename": "ImportError",
     "evalue": "pafy: youtube-dl not found; you can use the internal backend by setting the environmental variable PAFY_BACKEND to \"internal\". It is not enabled by default because it is not as well maintained as the youtube-dl backend.",
     "output_type": "error",
     "traceback": [
      "\u001b[1;31m---------------------------------------------------------------------------\u001b[0m",
      "\u001b[1;31mModuleNotFoundError\u001b[0m                       Traceback (most recent call last)",
      "File \u001b[1;32mc:\\Users\\santo\\Repos\\SSL-TIE_TFG\\venv\\lib\\site-packages\\pafy\\pafy.py:48\u001b[0m\n\u001b[0;32m     47\u001b[0m \u001b[38;5;28;01mtry\u001b[39;00m:\n\u001b[1;32m---> 48\u001b[0m     \u001b[38;5;28;01mimport\u001b[39;00m \u001b[38;5;21;01myoutube_dl\u001b[39;00m\n\u001b[0;32m     49\u001b[0m     backend \u001b[38;5;241m=\u001b[39m \u001b[38;5;124m\"\u001b[39m\u001b[38;5;124myoutube-dl\u001b[39m\u001b[38;5;124m\"\u001b[39m\n",
      "\u001b[1;31mModuleNotFoundError\u001b[0m: No module named 'youtube_dl'",
      "\nDuring handling of the above exception, another exception occurred:\n",
      "\u001b[1;31mImportError\u001b[0m                               Traceback (most recent call last)",
      "Cell \u001b[1;32mIn[9], line 2\u001b[0m\n\u001b[0;32m      1\u001b[0m \u001b[38;5;28;01mimport\u001b[39;00m \u001b[38;5;21;01mpandas\u001b[39;00m \u001b[38;5;28;01mas\u001b[39;00m \u001b[38;5;21;01mpd\u001b[39;00m\n\u001b[1;32m----> 2\u001b[0m \u001b[38;5;28;01mimport\u001b[39;00m \u001b[38;5;21;01mpafy\u001b[39;00m\n\u001b[0;32m      4\u001b[0m \u001b[38;5;66;03m# read csv file without header\u001b[39;00m\n\u001b[0;32m      5\u001b[0m data \u001b[38;5;241m=\u001b[39m pd\u001b[38;5;241m.\u001b[39mread_csv(\u001b[38;5;124m'\u001b[39m\u001b[38;5;124mvggsound.csv\u001b[39m\u001b[38;5;124m'\u001b[39m, header\u001b[38;5;241m=\u001b[39m\u001b[38;5;28;01mNone\u001b[39;00m)\n",
      "File \u001b[1;32mc:\\Users\\santo\\Repos\\SSL-TIE_TFG\\venv\\lib\\site-packages\\pafy\\__init__.py:7\u001b[0m\n\u001b[0;32m      3\u001b[0m __license__ \u001b[38;5;241m=\u001b[39m \u001b[38;5;124m\"\u001b[39m\u001b[38;5;124mLGPLv3\u001b[39m\u001b[38;5;124m\"\u001b[39m\n\u001b[0;32m      6\u001b[0m \u001b[38;5;66;03m# External api\u001b[39;00m\n\u001b[1;32m----> 7\u001b[0m \u001b[38;5;28;01mfrom\u001b[39;00m \u001b[38;5;21;01m.\u001b[39;00m\u001b[38;5;21;01mpafy\u001b[39;00m \u001b[38;5;28;01mimport\u001b[39;00m new\n\u001b[0;32m      8\u001b[0m \u001b[38;5;28;01mfrom\u001b[39;00m \u001b[38;5;21;01m.\u001b[39;00m\u001b[38;5;21;01mpafy\u001b[39;00m \u001b[38;5;28;01mimport\u001b[39;00m set_api_key\n\u001b[0;32m      9\u001b[0m \u001b[38;5;28;01mfrom\u001b[39;00m \u001b[38;5;21;01m.\u001b[39;00m\u001b[38;5;21;01mpafy\u001b[39;00m \u001b[38;5;28;01mimport\u001b[39;00m load_cache, dump_cache\n",
      "File \u001b[1;32mc:\\Users\\santo\\Repos\\SSL-TIE_TFG\\venv\\lib\\site-packages\\pafy\\pafy.py:51\u001b[0m\n\u001b[0;32m     49\u001b[0m         backend \u001b[38;5;241m=\u001b[39m \u001b[38;5;124m\"\u001b[39m\u001b[38;5;124myoutube-dl\u001b[39m\u001b[38;5;124m\"\u001b[39m\n\u001b[0;32m     50\u001b[0m     \u001b[38;5;28;01mexcept\u001b[39;00m \u001b[38;5;167;01mImportError\u001b[39;00m:\n\u001b[1;32m---> 51\u001b[0m         \u001b[38;5;28;01mraise\u001b[39;00m \u001b[38;5;167;01mImportError\u001b[39;00m(\n\u001b[0;32m     52\u001b[0m                \u001b[38;5;124m\"\u001b[39m\u001b[38;5;124mpafy: youtube-dl not found; you can use the internal backend by \u001b[39m\u001b[38;5;124m\"\u001b[39m\n\u001b[0;32m     53\u001b[0m                \u001b[38;5;124m\"\u001b[39m\u001b[38;5;124msetting the environmental variable PAFY_BACKEND to \u001b[39m\u001b[38;5;130;01m\\\"\u001b[39;00m\u001b[38;5;124minternal\u001b[39m\u001b[38;5;130;01m\\\"\u001b[39;00m\u001b[38;5;124m. \u001b[39m\u001b[38;5;124m\"\u001b[39m\n\u001b[0;32m     54\u001b[0m                \u001b[38;5;124m\"\u001b[39m\u001b[38;5;124mIt is not enabled by default because it is not as well maintained \u001b[39m\u001b[38;5;124m\"\u001b[39m\n\u001b[0;32m     55\u001b[0m                \u001b[38;5;124m\"\u001b[39m\u001b[38;5;124mas the youtube-dl backend.\u001b[39m\u001b[38;5;124m\"\u001b[39m)\n\u001b[0;32m     57\u001b[0m \u001b[38;5;28;01mif\u001b[39;00m os\u001b[38;5;241m.\u001b[39menviron\u001b[38;5;241m.\u001b[39mget(\u001b[38;5;124m\"\u001b[39m\u001b[38;5;124mpafydebug\u001b[39m\u001b[38;5;124m\"\u001b[39m) \u001b[38;5;241m==\u001b[39m \u001b[38;5;124m\"\u001b[39m\u001b[38;5;124m1\u001b[39m\u001b[38;5;124m\"\u001b[39m:\n\u001b[0;32m     58\u001b[0m     logging\u001b[38;5;241m.\u001b[39mbasicConfig(level\u001b[38;5;241m=\u001b[39mlogging\u001b[38;5;241m.\u001b[39mDEBUG)\n",
      "\u001b[1;31mImportError\u001b[0m: pafy: youtube-dl not found; you can use the internal backend by setting the environmental variable PAFY_BACKEND to \"internal\". It is not enabled by default because it is not as well maintained as the youtube-dl backend."
     ]
    }
   ],
   "source": [
    "import pandas as pd\n",
    "import pafy\n",
    "\n",
    "# read csv file without header\n",
    "data = pd.read_csv('vggsound.csv', header=None)\n",
    "\n",
    "#change the column names\n",
    "data.columns = ['ytid', 'start', 'label', 'split']\n",
    "\n",
    "# display the first 10 rows\n",
    "data.head(10)\n"
   ]
  },
  {
   "cell_type": "code",
   "execution_count": 6,
   "metadata": {},
   "outputs": [
    {
     "name": "stdout",
     "output_type": "stream",
     "text": [
      "train    183971\n",
      "test      15496\n",
      "Name: split, dtype: int64\n"
     ]
    }
   ],
   "source": [
    "# how many are there in each split\n",
    "print(data['split'].value_counts())"
   ]
  },
  {
   "cell_type": "code",
   "execution_count": 8,
   "metadata": {},
   "outputs": [
    {
     "name": "stdout",
     "output_type": "stream",
     "text": [
      "YouTube ID: ---g-f_I2yQ\n",
      "Trim Window: (1, 11.0)\n"
     ]
    }
   ],
   "source": [
    "ytid = data['ytid'][0]\n",
    "ts_start = data['start'][0]\n",
    "ts_end = ts_start + 10.0\n",
    "duration = ts_end - ts_start\n",
    "\n",
    "print(\"YouTube ID: \" + ytid)\n",
    "print(\"Trim Window: ({}, {})\".format(ts_start, ts_end))"
   ]
  },
  {
   "cell_type": "code",
   "execution_count": null,
   "metadata": {},
   "outputs": [],
   "source": [
    "# Get the URL to the video page\n",
    "video_page_url = 'https://www.youtube.com/watch?v={}'.format(ytid)\n",
    "\n",
    "# Get the direct URLs to the videos with best audio and with best video (with audio)\n",
    "video = pafy.new(video_page_url)\n",
    "\n",
    "best_video = video.getbestvideo()\n",
    "best_video_url = best_video.url\n",
    "print(\"Video URL: \" + best_video_url)\n",
    "\n",
    "best_audio = video.getbestaudio()\n",
    "best_audio_url = best_audio.url\n",
    "print(\"Audio URL: \" + best_audio_url)"
   ]
  }
 ],
 "metadata": {
  "kernelspec": {
   "display_name": "venv",
   "language": "python",
   "name": "python3"
  },
  "language_info": {
   "codemirror_mode": {
    "name": "ipython",
    "version": 3
   },
   "file_extension": ".py",
   "mimetype": "text/x-python",
   "name": "python",
   "nbconvert_exporter": "python",
   "pygments_lexer": "ipython3",
   "version": "3.8.0"
  }
 },
 "nbformat": 4,
 "nbformat_minor": 2
}
