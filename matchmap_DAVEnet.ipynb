{
 "cells": [
  {
   "cell_type": "markdown",
   "id": "8e66fd25",
   "metadata": {},
   "source": [
    "# CODE to DAVEnet Inferences"
   ]
  },
  {
   "cell_type": "code",
   "execution_count": 1,
   "id": "b4cbb418",
   "metadata": {},
   "outputs": [],
   "source": [
    "import utils.util as u\n",
    "import DAVEnet_models\n",
    "import torch.nn as nn\n",
    "import torch\n",
    "import os\n",
    "dir_DAVEnet_models_remote = \"/home/asantos/DAVEnet_Dump/exp_4/models\"\n",
    "\n",
    "def download_DAVEnet_weights(epoch,remote_dir, local_dir):\n",
    "    i_m_remote_path = os.path.join(remote_dir,f\"image_model.{epoch}.pth\")\n",
    "    a_m_remote_path = os.path.join(remote_dir,f\"audio_model.{epoch}.pth\")\n",
    "    \n",
    "    i_m_local_path = os.path.join(local_dir,f\"image_model.{epoch}.pth\")\n",
    "    a_m_local_path = os.path.join(local_dir,f\"audio_model.{epoch}.pth\")\n",
    "    u.download_remote_file(i_m_remote_path, i_m_local_path)\n",
    "    u.download_remote_file(a_m_remote_path, a_m_local_path)\n",
    "\n",
    "def check_if_DAVEnet_in_local(epoch,local_dir):\n",
    "    image_model_path = os.path.join(local_dir, f\"image_model.{epoch}.pth\")\n",
    "    audio_model_path = os.path.join(local_dir, f\"audio_model.{epoch}.pth\")\n",
    "    return os.path.exists(image_model_path) and os.path.exists(audio_model_path)\n",
    "\n",
    "def load_DAVEnet(epoch,local_dir,remote_dir=\"/home/asantos/DAVEnet_Dump/exp_4/models\",device=\"cpu\"):\n",
    "    print(\"--DAVEnet--\")\n",
    "    if check_if_DAVEnet_in_local(epoch,local_dir):\n",
    "        print(\"Weights in local -> Load models\")\n",
    "    else:\n",
    "        print(\"Weights not in local -> Proceed to download\")\n",
    "        download_DAVEnet_weights(epoch, remote_dir,local_dir)\n",
    "        print(\"Load models\")\n",
    "\n",
    "    audio_model = nn.DataParallel(DAVEnet_models.Davenet().to(device))\n",
    "    image_model = nn.DataParallel(DAVEnet_models.VGG16().to(device))\n",
    "\n",
    "    audio_model.load_state_dict(torch.load(os.path.join(local_dir, f\"audio_model.{epoch}.pth\"), map_location=device))\n",
    "    image_model.load_state_dict(torch.load(os.path.join(local_dir, f\"image_model.{epoch}.pth\"), map_location=device))\n",
    "    print(\"Loaded parameters from epoch \",epoch)\n",
    "    return audio_model,image_model\n",
    "\n",
    "device = torch.device(\"cuda\" if torch.cuda.is_available() else \"cpu\")\n",
    "\n",
    "# audio_model, image_model = load_DAVEnet(56,\"garbage\",device=device)\n"
   ]
  },
  {
   "cell_type": "code",
   "execution_count": 9,
   "id": "6d32634f",
   "metadata": {},
   "outputs": [
    {
     "name": "stdout",
     "output_type": "stream",
     "text": [
      "Proceed to make the inference\n",
      "--DAVEnet--\n",
      "Weights in local -> Load models\n"
     ]
    },
    {
     "name": "stderr",
     "output_type": "stream",
     "text": [
      "/home/albert/miniconda3/envs/ssl-cpu/lib/python3.8/site-packages/torchvision/models/_utils.py:208: UserWarning: The parameter 'pretrained' is deprecated since 0.13 and may be removed in the future, please use 'weights' instead.\n",
      "  warnings.warn(\n",
      "/home/albert/miniconda3/envs/ssl-cpu/lib/python3.8/site-packages/torchvision/models/_utils.py:223: UserWarning: Arguments other than a weight enum or `None` for 'weights' are deprecated since 0.13 and may be removed in the future. The current behavior is equivalent to passing `weights=None`.\n",
      "  warnings.warn(msg)\n"
     ]
    },
    {
     "name": "stdout",
     "output_type": "stream",
     "text": [
      "Loaded parameters from epoch  136\n",
      "Sample already downloaded\n"
     ]
    },
    {
     "name": "stderr",
     "output_type": "stream",
     "text": [
      "/home/albert/UPF/SSL-TIE_TFG_old/utils/util.py:1026: FutureWarning: Pass sr=16000, n_fft=400 as keyword args. From version 0.10 passing these as positional arguments will result in an error\n",
      "  mel_basis = librosa.filters.mel(sr, n_fft, n_mels=num_mel_bins, fmin=fmin)\n"
     ]
    },
    {
     "name": "stdout",
     "output_type": "stream",
     "text": [
      "Video created at: dir_exp_PlacesAudio/inferences/1/DAVEnetNo-epoch136_valn_1.mp4\n",
      "Success! Video file created: 147996 bytes\n"
     ]
    },
    {
     "data": {
      "text/plain": [
       "'dir_exp_PlacesAudio/inferences/1/DAVEnetNo-epoch136_valn_1.mp4'"
      ]
     },
     "execution_count": 9,
     "metadata": {},
     "output_type": "execute_result"
    }
   ],
   "source": [
    "from utils.util import MatchmapVideoGeneratorDAVEnet\n",
    "\n",
    "# mvgDAVEnet = MatchmapVideoGeneratorDAVEnet(\n",
    "#         audio_model= audio_model,\n",
    "#         image_model= image_model,\n",
    "#         nFrames= nFrames,\n",
    "#         device = device,\n",
    "#         img = img,\n",
    "#         spec = spec\n",
    "# )\n",
    "\n",
    "\n",
    "def inference_maker_DAVEnet(epoch, split, sample_idx, local_dir_saving,model_name=\"\"):\n",
    "    inference_name = f'DAVEnet{model_name}-epoch{epoch}_{split}_{sample_idx}.mp4'\n",
    "    inference_local_path = os.path.join(local_dir_saving, \"inferences\", str(sample_idx), inference_name)\n",
    "\n",
    "    if os.path.exists(inference_local_path):\n",
    "        print(\"Inference already in local\")\n",
    "        return inference_local_path\n",
    "    print(\"Proceed to make the inference\")\n",
    "\n",
    "    # Ensure the directory for inference_local_path exists\n",
    "    inference_dir = os.path.dirname(inference_local_path)\n",
    "    if not os.path.exists(inference_dir):\n",
    "        os.makedirs(inference_dir)\n",
    "\n",
    "    #Load models\n",
    "    device = torch.device(\"cuda\" if torch.cuda.is_available() else \"cpu\")\n",
    "\n",
    "    audio_model, image_model = load_DAVEnet(\n",
    "        epoch=epoch,\n",
    "        local_dir= os.path.join(local_dir_saving, \"DAVEnet_weights\"),\n",
    "        device=device\n",
    "    )\n",
    "    \n",
    "    #Check if the audio and the image of the sample index is in local\n",
    "    json_file = f'garbage/{split}.json'\n",
    "    if os.path.exists(json_file):\n",
    "        gs = u.GetSampleFromJson(json_file, local_dir_saving,padvalue=0)\n",
    "        img_local_path, aud_local_path = gs.download_sample(sample_idx)\n",
    "    else:\n",
    "        raise FileNotFoundError(\"json file not found for retrieving the samples\")\n",
    "\n",
    "    img = gs.load_image(img_local_path)\n",
    "    spec = gs.load_audio_to_spec(aud_local_path)\n",
    "    nFrames =  \"pepe\"\n",
    "    mgv = MatchmapVideoGeneratorDAVEnet(audio_model, image_model, nFrames, device, img, spec)\n",
    "    mgv.create_video_with_audio(inference_local_path, aud_local_path)\n",
    "    \n",
    "    return inference_local_path\n",
    "\n",
    "\n",
    "inference_maker_DAVEnet(epoch=136,split=\"valn\",sample_idx=1,local_dir_saving=\"dir_exp_PlacesAudio\",model_name=\"No\")\n",
    "\n"
   ]
  }
 ],
 "metadata": {
  "kernelspec": {
   "display_name": "ssl-cpu",
   "language": "python",
   "name": "python3"
  },
  "language_info": {
   "codemirror_mode": {
    "name": "ipython",
    "version": 3
   },
   "file_extension": ".py",
   "mimetype": "text/x-python",
   "name": "python",
   "nbconvert_exporter": "python",
   "pygments_lexer": "ipython3",
   "version": "3.8.20"
  }
 },
 "nbformat": 4,
 "nbformat_minor": 5
}
