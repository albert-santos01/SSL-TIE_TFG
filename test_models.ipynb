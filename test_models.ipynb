{
 "cells": [
  {
   "cell_type": "markdown",
   "metadata": {},
   "source": [
    "# Test models"
   ]
  },
  {
   "cell_type": "code",
   "execution_count": 1,
   "metadata": {},
   "outputs": [],
   "source": [
    "from datasets import PlacesAudio\n",
    "import sys\n",
    "from opts import get_arguments\n",
    "from utils import util as u\n",
    "from torch.utils.data import Dataset, DataLoader, dataset\n",
    "from torch.autograd import Variable\n",
    "import time\n",
    "import torch\n",
    "from tqdm import tqdm\n"
   ]
  },
  {
   "cell_type": "code",
   "execution_count": 4,
   "metadata": {},
   "outputs": [],
   "source": [
    "def validate(val_loader, model, criterion, device, epoch, args):\n",
    "    batch_time = u.AverageMeter()\n",
    "    losses = u.AverageMeter()\n",
    "    A_r10_meter = u.AverageMeter()\n",
    "    A_r5_meter = u.AverageMeter()\n",
    "    A_r1_meter = u.AverageMeter()\n",
    "\n",
    "    I_r10_meter = u.AverageMeter()\n",
    "    I_r5_meter = u.AverageMeter()\n",
    "    I_r1_meter = u.AverageMeter()\n",
    "\n",
    "    img_embs_all = []\n",
    "    aud_embs_all = []\n",
    "\n",
    "    tic = time.time()\n",
    "\n",
    "    model.eval()\n",
    "    \n",
    "    with torch.no_grad():\n",
    "        end = time.time()\n",
    "        for idx, (image, spec, audio, name, im) in tqdm(enumerate(val_loader), total=len(val_loader)):\n",
    "\n",
    "            spec = Variable(spec).to(device, non_blocking=True)\n",
    "            image = Variable(image).to(device, non_blocking=True)\n",
    "            B = image.size(0)\n",
    "\n",
    "            imgs_out, auds_out = model(image.float(), spec.float(), args, mode='val')\n",
    "\n",
    "            imgs_out = imgs_out.detach()\n",
    "            auds_out = auds_out.detach()\n",
    "\n",
    "            loss_cl = u.infoNCE_loss(imgs_out, auds_out, args)\n",
    "\n",
    "            img_embs_all.append(imgs_out)\n",
    "            aud_embs_all.append(auds_out)\n",
    "            \n",
    "            losses.update(loss_cl.item(),B)\n",
    "\n",
    "            batch_time.update(time.time() - end)\n",
    "            end = time.time()\n",
    "\n",
    "    imgs_out_all = torch.cat(img_embs_all)\n",
    "    auds_out_all = torch.cat(aud_embs_all)\n",
    "\n",
    "    sims =u.similarity_matrix_bxb(imgs_out_all,auds_out_all)\n",
    "    \n",
    "    recalls      = u.topk_accuracies(sims, [1,5,10])\n",
    "    A_r10 = recalls[\"A_r10\"]\n",
    "    A_r5  = recalls[\"A_r5\"]\n",
    "    A_r1  = recalls[\"A_r1\"]\n",
    "    I_r10   = recalls[\"I_r10\"]\n",
    "    I_r5    = recalls[\"I_r5\"]\n",
    "    I_r1    = recalls[\"I_r1\"]\n",
    "\n",
    "    N_examples= len(val_loader) * B\n",
    "    \n",
    "    print('Epoch: [{0}]\\t Eval '\n",
    "          'Loss: {loss.avg:.4f}  \\t T-epoch: {t:.2f} \\t'\n",
    "          .format(epoch, loss=losses, t=time.time()-tic))\n",
    "    \n",
    "    print(' * Audio R@10 {A_r10:.3f} Image R@10 {I_r10:.3f} over {N:d} validation pairs'\n",
    "        .format(A_r10=A_r10, I_r10=I_r10, N=N_examples), flush=True)\n",
    "    print(' * Audio R@5 {A_r5:.3f} Image R@5 {I_r5:.3f} over {N:d} validation pairs'\n",
    "        .format(A_r5=A_r5, I_r5=I_r5, N=N_examples), flush=True)\n",
    "    print(' * Audio R@1 {A_r1:.3f} Image R@1 {I_r1:.3f} over {N:d} validation pairs'\n",
    "        .format(A_r1=A_r1, I_r1=I_r1, N=N_examples), flush=True)\n",
    "    \n",
    "    return losses.avg, recalls"
   ]
  },
  {
   "cell_type": "code",
   "execution_count": 5,
   "metadata": {},
   "outputs": [
    {
     "name": "stdout",
     "output_type": "stream",
     "text": [
      "PlacesAudio split: VAL dataset size: 1000\n",
      "\n",
      "Validating model: SSL_TIE_PlacesAudio-lr1e-5-2ly-B128-SISA-1GPUS-wV, Epoch: 13\n"
     ]
    },
    {
     "name": "stderr",
     "output_type": "stream",
     "text": [
      "100%|██████████| 31/31 [01:07<00:00,  2.18s/it]\n"
     ]
    },
    {
     "name": "stdout",
     "output_type": "stream",
     "text": [
      "Epoch: [13]\t Eval Loss: 3.9289  \t T-epoch: 95.44 \t\n",
      " * Audio R@10 0.019 Image R@10 0.030 over 992 validation pairs\n",
      " * Audio R@5 0.008 Image R@5 0.016 over 992 validation pairs\n",
      " * Audio R@1 0.002 Image R@1 0.004 over 992 validation pairs\n",
      "\n",
      "Validating model: SSL_TIE_PlacesAudio_lr1e-5-2ly-B32-MISA, Epoch: 100\n"
     ]
    },
    {
     "name": "stderr",
     "output_type": "stream",
     "text": [
      "100%|██████████| 31/31 [00:55<00:00,  1.80s/it]\n"
     ]
    },
    {
     "name": "stdout",
     "output_type": "stream",
     "text": [
      "Epoch: [100]\t Eval Loss: 3.3159  \t T-epoch: 84.49 \t\n",
      " * Audio R@10 0.075 Image R@10 0.085 over 992 validation pairs\n",
      " * Audio R@5 0.048 Image R@5 0.064 over 992 validation pairs\n",
      " * Audio R@1 0.009 Image R@1 0.014 over 992 validation pairs\n",
      "\n",
      "Validating model: SSL_TIE_PlacesAudio_lr1e-5-2ly-B128-MISA, Epoch: 100\n"
     ]
    },
    {
     "name": "stderr",
     "output_type": "stream",
     "text": [
      "100%|██████████| 31/31 [01:06<00:00,  2.14s/it]\n"
     ]
    },
    {
     "name": "stdout",
     "output_type": "stream",
     "text": [
      "Epoch: [100]\t Eval Loss: 4.5286  \t T-epoch: 94.78 \t\n",
      " * Audio R@10 0.014 Image R@10 0.035 over 992 validation pairs\n",
      " * Audio R@5 0.008 Image R@5 0.019 over 992 validation pairs\n",
      " * Audio R@1 0.001 Image R@1 0.003 over 992 validation pairs\n",
      "\n",
      "Validating model: SSL_TIE_PlacesAudio_lr1e-5-2ly-B256-MISA, Epoch: 100\n"
     ]
    },
    {
     "name": "stderr",
     "output_type": "stream",
     "text": [
      "100%|██████████| 31/31 [00:57<00:00,  1.85s/it]\n"
     ]
    },
    {
     "name": "stdout",
     "output_type": "stream",
     "text": [
      "Epoch: [100]\t Eval Loss: 4.5203  \t T-epoch: 88.32 \t\n",
      " * Audio R@10 0.017 Image R@10 0.025 over 992 validation pairs\n",
      " * Audio R@5 0.012 Image R@5 0.014 over 992 validation pairs\n",
      " * Audio R@1 0.004 Image R@1 0.003 over 992 validation pairs\n",
      "\n",
      "Validating model: SSL_TIE_PlacesAudio_lr1e-5-2ly-B128-SISA, Epoch: 100\n"
     ]
    },
    {
     "name": "stderr",
     "output_type": "stream",
     "text": [
      "100%|██████████| 31/31 [00:54<00:00,  1.75s/it]\n"
     ]
    },
    {
     "name": "stdout",
     "output_type": "stream",
     "text": [
      "Epoch: [100]\t Eval Loss: 5.3987  \t T-epoch: 86.47 \t\n",
      " * Audio R@10 0.011 Image R@10 0.030 over 992 validation pairs\n",
      " * Audio R@5 0.006 Image R@5 0.014 over 992 validation pairs\n",
      " * Audio R@1 0.001 Image R@1 0.001 over 992 validation pairs\n",
      "\n",
      "Validating model: SSL_TIE_PlacesAudio_lr1e-3-2ly-B128-SISA, Epoch: 39\n"
     ]
    },
    {
     "name": "stderr",
     "output_type": "stream",
     "text": [
      "100%|██████████| 31/31 [00:55<00:00,  1.78s/it]\n"
     ]
    },
    {
     "name": "stdout",
     "output_type": "stream",
     "text": [
      "Epoch: [39]\t Eval Loss: 3.4657  \t T-epoch: 86.24 \t\n",
      " * Audio R@10 0.010 Image R@10 0.010 over 992 validation pairs\n",
      " * Audio R@5 0.005 Image R@5 0.005 over 992 validation pairs\n",
      " * Audio R@1 0.001 Image R@1 0.001 over 992 validation pairs\n",
      "\n",
      "Validating model: SSL_TIE_PlacesAudio_lr1e-4-2ly-B32-MISA, Epoch: 100\n"
     ]
    },
    {
     "name": "stderr",
     "output_type": "stream",
     "text": [
      "100%|██████████| 31/31 [00:53<00:00,  1.73s/it]\n"
     ]
    },
    {
     "name": "stdout",
     "output_type": "stream",
     "text": [
      "Epoch: [100]\t Eval Loss: 3.4657  \t T-epoch: 85.30 \t\n",
      " * Audio R@10 0.010 Image R@10 0.010 over 992 validation pairs\n",
      " * Audio R@5 0.005 Image R@5 0.005 over 992 validation pairs\n",
      " * Audio R@1 0.001 Image R@1 0.001 over 992 validation pairs\n"
     ]
    }
   ],
   "source": [
    "# Simulate command-line arguments for loading the model\n",
    "sys.argv = ['script_name', '--order_3_tensor', \n",
    "            '--simtype', 'MISA', \n",
    "            '--placesAudio', '$DATA/PlacesAudio_400k_distro/metadata/',\n",
    "            '--batch_size', \"32\", \n",
    "            '--n_threads', '0',\n",
    "            '--val_video_idx', '10']\n",
    "\n",
    "args = get_arguments()\n",
    "\n",
    "models = [\n",
    "    {\"model_name\": \"SSL_TIE_PlacesAudio-lr1e-5-2ly-B128-SISA-1GPUS-wV\", \"epoch\": 13},\n",
    "    {\"model_name\": \"SSL_TIE_PlacesAudio_lr1e-5-2ly-B32-MISA\", \"epoch\": 100},\n",
    "    {\"model_name\": \"SSL_TIE_PlacesAudio_lr1e-5-2ly-B128-MISA\", \"epoch\": 100},\n",
    "    {\"model_name\": \"SSL_TIE_PlacesAudio_lr1e-5-2ly-B256-MISA\", \"epoch\": 100},\n",
    "    {\"model_name\": \"SSL_TIE_PlacesAudio_lr1e-5-2ly-B128-SISA\", \"epoch\": 100},\n",
    "    {\"model_name\": \"SSL_TIE_PlacesAudio_lr1e-3-2ly-B128-SISA\", \"epoch\": 39},\n",
    "    {\"model_name\": \"SSL_TIE_PlacesAudio_lr1e-4-2ly-B32-MISA\", \"epoch\": 100},\n",
    "]\n",
    "\n",
    "# remote_path = f'/home/asantos/models/to_test/{model[\"model_name\"]}-epoch{model[\"epoch\"]}.pth.tar'\n",
    "# u.load_model()\n",
    "model_path = models[0]\n",
    "model_path = f'/home/asantos/models/to_test/{model_path[\"model_name\"]}-epoch{model_path[\"epoch\"]}.pth.tar'\n",
    "\n",
    "model,device = u.load_model(model_path,args)\n",
    "\n",
    "val_dataset = PlacesAudio(args.placesAudio + 'val.json', args,mode='val')\n",
    "\n",
    "val_loader = DataLoader(val_dataset, batch_size=args.batch_size, shuffle=False,\\\n",
    "        num_workers=args.n_threads, drop_last=True, pin_memory=True)\n",
    "\n",
    "results = {}\n",
    "for model_info in models:\n",
    "    model_path = f'/home/asantos/models/to_test/{model_info[\"model_name\"]}-epoch{model_info[\"epoch\"]}.pth.tar'\n",
    "    model, device = u.load_model(model_path, args)\n",
    "    print(f'\\nValidating model: {model_info[\"model_name\"]}, Epoch: {model_info[\"epoch\"]}')\n",
    "    loss, recalls = validate(val_loader, model, None, device, epoch=model_info[\"epoch\"], args=args)\n",
    "    \n",
    "    results[model_info[\"model_name\"]] = {\n",
    "        \"epoch\": model_info[\"epoch\"],\n",
    "        \"loss\": loss,\n",
    "        \"A_r10\": recalls[\"A_r10\"],\n",
    "        \"A_r5\": recalls[\"A_r5\"],\n",
    "        \"A_r1\": recalls[\"A_r1\"],\n",
    "        \"I_r10\": recalls[\"I_r10\"],\n",
    "        \"I_r5\": recalls[\"I_r5\"],\n",
    "        \"I_r1\": recalls[\"I_r1\"]\n",
    "    }"
   ]
  },
  {
   "cell_type": "code",
   "execution_count": 8,
   "metadata": {},
   "outputs": [
    {
     "data": {
      "text/html": [
       "<div>\n",
       "<style scoped>\n",
       "    .dataframe tbody tr th:only-of-type {\n",
       "        vertical-align: middle;\n",
       "    }\n",
       "\n",
       "    .dataframe tbody tr th {\n",
       "        vertical-align: top;\n",
       "    }\n",
       "\n",
       "    .dataframe thead th {\n",
       "        text-align: right;\n",
       "    }\n",
       "</style>\n",
       "<table border=\"1\" class=\"dataframe\">\n",
       "  <thead>\n",
       "    <tr style=\"text-align: right;\">\n",
       "      <th></th>\n",
       "      <th>epoch</th>\n",
       "      <th>loss</th>\n",
       "      <th>A_r10</th>\n",
       "      <th>A_r5</th>\n",
       "      <th>A_r1</th>\n",
       "      <th>I_r10</th>\n",
       "      <th>I_r5</th>\n",
       "      <th>I_r1</th>\n",
       "    </tr>\n",
       "  </thead>\n",
       "  <tbody>\n",
       "    <tr>\n",
       "      <th>SSL_TIE_PlacesAudio_lr1e-5-2ly-B128-SISA</th>\n",
       "      <td>100.0</td>\n",
       "      <td>5.398741</td>\n",
       "      <td>0.011089</td>\n",
       "      <td>0.006048</td>\n",
       "      <td>0.001008</td>\n",
       "      <td>0.030242</td>\n",
       "      <td>0.014113</td>\n",
       "      <td>0.001008</td>\n",
       "    </tr>\n",
       "    <tr>\n",
       "      <th>SSL_TIE_PlacesAudio_lr1e-5-2ly-B128-MISA</th>\n",
       "      <td>100.0</td>\n",
       "      <td>4.528646</td>\n",
       "      <td>0.014113</td>\n",
       "      <td>0.008065</td>\n",
       "      <td>0.001008</td>\n",
       "      <td>0.035282</td>\n",
       "      <td>0.019153</td>\n",
       "      <td>0.003024</td>\n",
       "    </tr>\n",
       "    <tr>\n",
       "      <th>SSL_TIE_PlacesAudio_lr1e-5-2ly-B256-MISA</th>\n",
       "      <td>100.0</td>\n",
       "      <td>4.520318</td>\n",
       "      <td>0.017137</td>\n",
       "      <td>0.012097</td>\n",
       "      <td>0.004032</td>\n",
       "      <td>0.025202</td>\n",
       "      <td>0.014113</td>\n",
       "      <td>0.003024</td>\n",
       "    </tr>\n",
       "    <tr>\n",
       "      <th>SSL_TIE_PlacesAudio-lr1e-5-2ly-B128-SISA-1GPUS-wV</th>\n",
       "      <td>13.0</td>\n",
       "      <td>3.928914</td>\n",
       "      <td>0.019153</td>\n",
       "      <td>0.008065</td>\n",
       "      <td>0.002016</td>\n",
       "      <td>0.030242</td>\n",
       "      <td>0.016129</td>\n",
       "      <td>0.004032</td>\n",
       "    </tr>\n",
       "    <tr>\n",
       "      <th>SSL_TIE_PlacesAudio_lr1e-3-2ly-B128-SISA</th>\n",
       "      <td>39.0</td>\n",
       "      <td>3.465736</td>\n",
       "      <td>0.010081</td>\n",
       "      <td>0.005040</td>\n",
       "      <td>0.001008</td>\n",
       "      <td>0.010081</td>\n",
       "      <td>0.005040</td>\n",
       "      <td>0.001008</td>\n",
       "    </tr>\n",
       "    <tr>\n",
       "      <th>SSL_TIE_PlacesAudio_lr1e-4-2ly-B32-MISA</th>\n",
       "      <td>100.0</td>\n",
       "      <td>3.465736</td>\n",
       "      <td>0.010081</td>\n",
       "      <td>0.005040</td>\n",
       "      <td>0.001008</td>\n",
       "      <td>0.010081</td>\n",
       "      <td>0.005040</td>\n",
       "      <td>0.001008</td>\n",
       "    </tr>\n",
       "    <tr>\n",
       "      <th>SSL_TIE_PlacesAudio_lr1e-5-2ly-B32-MISA</th>\n",
       "      <td>100.0</td>\n",
       "      <td>3.315941</td>\n",
       "      <td>0.074597</td>\n",
       "      <td>0.048387</td>\n",
       "      <td>0.009073</td>\n",
       "      <td>0.084677</td>\n",
       "      <td>0.063508</td>\n",
       "      <td>0.014113</td>\n",
       "    </tr>\n",
       "  </tbody>\n",
       "</table>\n",
       "</div>"
      ],
      "text/plain": [
       "                                                   epoch      loss     A_r10  \\\n",
       "SSL_TIE_PlacesAudio_lr1e-5-2ly-B128-SISA           100.0  5.398741  0.011089   \n",
       "SSL_TIE_PlacesAudio_lr1e-5-2ly-B128-MISA           100.0  4.528646  0.014113   \n",
       "SSL_TIE_PlacesAudio_lr1e-5-2ly-B256-MISA           100.0  4.520318  0.017137   \n",
       "SSL_TIE_PlacesAudio-lr1e-5-2ly-B128-SISA-1GPUS-wV   13.0  3.928914  0.019153   \n",
       "SSL_TIE_PlacesAudio_lr1e-3-2ly-B128-SISA            39.0  3.465736  0.010081   \n",
       "SSL_TIE_PlacesAudio_lr1e-4-2ly-B32-MISA            100.0  3.465736  0.010081   \n",
       "SSL_TIE_PlacesAudio_lr1e-5-2ly-B32-MISA            100.0  3.315941  0.074597   \n",
       "\n",
       "                                                       A_r5      A_r1  \\\n",
       "SSL_TIE_PlacesAudio_lr1e-5-2ly-B128-SISA           0.006048  0.001008   \n",
       "SSL_TIE_PlacesAudio_lr1e-5-2ly-B128-MISA           0.008065  0.001008   \n",
       "SSL_TIE_PlacesAudio_lr1e-5-2ly-B256-MISA           0.012097  0.004032   \n",
       "SSL_TIE_PlacesAudio-lr1e-5-2ly-B128-SISA-1GPUS-wV  0.008065  0.002016   \n",
       "SSL_TIE_PlacesAudio_lr1e-3-2ly-B128-SISA           0.005040  0.001008   \n",
       "SSL_TIE_PlacesAudio_lr1e-4-2ly-B32-MISA            0.005040  0.001008   \n",
       "SSL_TIE_PlacesAudio_lr1e-5-2ly-B32-MISA            0.048387  0.009073   \n",
       "\n",
       "                                                      I_r10      I_r5  \\\n",
       "SSL_TIE_PlacesAudio_lr1e-5-2ly-B128-SISA           0.030242  0.014113   \n",
       "SSL_TIE_PlacesAudio_lr1e-5-2ly-B128-MISA           0.035282  0.019153   \n",
       "SSL_TIE_PlacesAudio_lr1e-5-2ly-B256-MISA           0.025202  0.014113   \n",
       "SSL_TIE_PlacesAudio-lr1e-5-2ly-B128-SISA-1GPUS-wV  0.030242  0.016129   \n",
       "SSL_TIE_PlacesAudio_lr1e-3-2ly-B128-SISA           0.010081  0.005040   \n",
       "SSL_TIE_PlacesAudio_lr1e-4-2ly-B32-MISA            0.010081  0.005040   \n",
       "SSL_TIE_PlacesAudio_lr1e-5-2ly-B32-MISA            0.084677  0.063508   \n",
       "\n",
       "                                                       I_r1  \n",
       "SSL_TIE_PlacesAudio_lr1e-5-2ly-B128-SISA           0.001008  \n",
       "SSL_TIE_PlacesAudio_lr1e-5-2ly-B128-MISA           0.003024  \n",
       "SSL_TIE_PlacesAudio_lr1e-5-2ly-B256-MISA           0.003024  \n",
       "SSL_TIE_PlacesAudio-lr1e-5-2ly-B128-SISA-1GPUS-wV  0.004032  \n",
       "SSL_TIE_PlacesAudio_lr1e-3-2ly-B128-SISA           0.001008  \n",
       "SSL_TIE_PlacesAudio_lr1e-4-2ly-B32-MISA            0.001008  \n",
       "SSL_TIE_PlacesAudio_lr1e-5-2ly-B32-MISA            0.014113  "
      ]
     },
     "execution_count": 8,
     "metadata": {},
     "output_type": "execute_result"
    }
   ],
   "source": [
    "import pandas as pd\n",
    "\n",
    "df = pd.DataFrame(results)\n",
    "df = df.transpose()\n",
    "df.sort_values(by='loss', ascending=False, inplace=True)\n",
    "df.to_csv('garbage/results.csv', index=True)\n",
    "df"
   ]
  },
  {
   "cell_type": "code",
   "execution_count": null,
   "metadata": {},
   "outputs": [],
   "source": []
  },
  {
   "cell_type": "code",
   "execution_count": null,
   "metadata": {},
   "outputs": [],
   "source": []
  }
 ],
 "metadata": {
  "kernelspec": {
   "display_name": "Python 3",
   "language": "python",
   "name": "python3"
  },
  "language_info": {
   "codemirror_mode": {
    "name": "ipython",
    "version": 3
   },
   "file_extension": ".py",
   "mimetype": "text/x-python",
   "name": "python",
   "nbconvert_exporter": "python",
   "pygments_lexer": "ipython3",
   "version": "3.8.20"
  }
 },
 "nbformat": 4,
 "nbformat_minor": 2
}
