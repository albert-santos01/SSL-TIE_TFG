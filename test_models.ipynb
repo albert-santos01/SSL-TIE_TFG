{
 "cells": [
  {
   "cell_type": "markdown",
   "metadata": {},
   "source": [
    "# Test models"
   ]
  },
  {
   "cell_type": "code",
   "execution_count": 1,
   "metadata": {},
   "outputs": [],
   "source": [
    "from datasets import PlacesAudio\n",
    "import sys\n",
    "from opts import get_arguments\n",
    "from utils import util as u\n",
    "from torch.utils.data import Dataset, DataLoader, dataset\n",
    "from torch.autograd import Variable\n",
    "import time\n",
    "import torch\n",
    "from tqdm import tqdm\n"
   ]
  },
  {
   "cell_type": "code",
   "execution_count": 2,
   "metadata": {},
   "outputs": [],
   "source": [
    "def validate(val_loader, model, criterion, device, epoch, args):\n",
    "    batch_time = u.AverageMeter()\n",
    "    losses = u.AverageMeter()\n",
    "    acc_a_vAverage = u.AverageMeter()\n",
    "    acc_v_aAverage = u.AverageMeter() \n",
    "\n",
    "    tic = time.time()\n",
    "\n",
    "    model.eval()\n",
    "    \n",
    "    with torch.no_grad():\n",
    "        end = time.time()\n",
    "        for idx, (image, spec, audio, name, im) in tqdm(enumerate(val_loader), total=len(val_loader)):\n",
    "\n",
    "            spec = Variable(spec).to(device, non_blocking=True)\n",
    "            image = Variable(image).to(device, non_blocking=True)\n",
    "            B = image.size(0)\n",
    "\n",
    "            imgs_out, auds_out = model(image.float(), spec.float(), args, mode='val')\n",
    "                            \n",
    "            loss_cl,sims = u.infoNCE_loss(imgs_out,auds_out, args,return_S=True)\n",
    "            acc_v_a, acc_a_v =u.topk_accuracy(sims,k=5)\n",
    "\n",
    "            losses.update(loss_cl.item(),B)\n",
    "            acc_a_vAverage.update(acc_a_v)\n",
    "            acc_v_aAverage.update(acc_v_a)\n",
    "            batch_time.update(time.time() - end)\n",
    "            end = time.time()\n",
    "\n",
    "\n",
    "    print('Epoch: [{0}]\\t Eval '\n",
    "          'Loss: {loss.avg:.4f}  \\t T-epoch: {t:.2f} \\t'\n",
    "          .format(epoch, loss=losses, t=time.time()-tic))\n",
    "    return losses.avg, acc_a_vAverage.avg, acc_v_aAverage.avg"
   ]
  },
  {
   "cell_type": "code",
   "execution_count": null,
   "metadata": {},
   "outputs": [
    {
     "name": "stdout",
     "output_type": "stream",
     "text": [
      "PlacesAudio split: VAL dataset size: 1000\n",
      "Validating model: SSL_TIE_PlacesAudio-lr1e-5-2ly-B128-SISA-1GPUS-wV, Epoch: 13\n"
     ]
    },
    {
     "name": "stderr",
     "output_type": "stream",
     "text": [
      "100%|██████████| 31/31 [01:06<00:00,  2.15s/it]\n"
     ]
    },
    {
     "name": "stdout",
     "output_type": "stream",
     "text": [
      "Epoch: [13]\t Eval Loss: 3.9289  \t T-epoch: 66.63 \t\n",
      "Loss: 3.9289, Acc_a_v: 0.2873, Acc_v_a: 0.2157\n",
      "Validating model: SSL_TIE_PlacesAudio_lr1e-5-2ly-B32-MISA, Epoch: 100\n"
     ]
    },
    {
     "name": "stderr",
     "output_type": "stream",
     "text": [
      "100%|██████████| 31/31 [01:07<00:00,  2.17s/it]\n"
     ]
    },
    {
     "name": "stdout",
     "output_type": "stream",
     "text": [
      "Epoch: [100]\t Eval Loss: 3.3159  \t T-epoch: 67.22 \t\n",
      "Loss: 3.3159, Acc_a_v: 0.4788, Acc_v_a: 0.4395\n",
      "Validating model: SSL_TIE_PlacesAudio_lr1e-5-2ly-B128-MISA, Epoch: 100\n"
     ]
    },
    {
     "name": "stderr",
     "output_type": "stream",
     "text": [
      "100%|██████████| 31/31 [01:05<00:00,  2.12s/it]\n"
     ]
    },
    {
     "name": "stdout",
     "output_type": "stream",
     "text": [
      "Epoch: [100]\t Eval Loss: 4.5286  \t T-epoch: 65.87 \t\n",
      "Loss: 4.5286, Acc_a_v: 0.2702, Acc_v_a: 0.2329\n",
      "Validating model: SSL_TIE_PlacesAudio_lr1e-5-2ly-B256-MISA, Epoch: 100\n"
     ]
    },
    {
     "name": "stderr",
     "output_type": "stream",
     "text": [
      "100%|██████████| 31/31 [01:05<00:00,  2.10s/it]\n"
     ]
    },
    {
     "name": "stdout",
     "output_type": "stream",
     "text": [
      "Epoch: [100]\t Eval Loss: 4.5203  \t T-epoch: 65.16 \t\n",
      "Loss: 4.5203, Acc_a_v: 0.2571, Acc_v_a: 0.2218\n",
      "Validating model: SSL_TIE_PlacesAudio_lr1e-5-2ly-B128-SISA, Epoch: 100\n"
     ]
    },
    {
     "name": "stderr",
     "output_type": "stream",
     "text": [
      "100%|██████████| 31/31 [01:09<00:00,  2.25s/it]\n"
     ]
    },
    {
     "name": "stdout",
     "output_type": "stream",
     "text": [
      "Epoch: [100]\t Eval Loss: 5.3987  \t T-epoch: 69.86 \t\n",
      "Loss: 5.3987, Acc_a_v: 0.2752, Acc_v_a: 0.1835\n",
      "Validating model: SSL_TIE_PlacesAudio_lr1e-3-2ly-B128-SISA, Epoch: 39\n"
     ]
    },
    {
     "name": "stderr",
     "output_type": "stream",
     "text": [
      "100%|██████████| 31/31 [01:15<00:00,  2.43s/it]\n"
     ]
    },
    {
     "name": "stdout",
     "output_type": "stream",
     "text": [
      "Epoch: [39]\t Eval Loss: 3.4657  \t T-epoch: 75.45 \t\n",
      "Loss: 3.4657, Acc_a_v: 0.1562, Acc_v_a: 0.1562\n",
      "Validating model: SSL_TIE_PlacesAudio_lr1e-4-2ly-B32-MISA, Epoch: 100\n"
     ]
    },
    {
     "name": "stderr",
     "output_type": "stream",
     "text": [
      "100%|██████████| 31/31 [01:14<00:00,  2.39s/it]"
     ]
    },
    {
     "name": "stdout",
     "output_type": "stream",
     "text": [
      "Epoch: [100]\t Eval Loss: 3.4657  \t T-epoch: 74.19 \t\n",
      "Loss: 3.4657, Acc_a_v: 0.1562, Acc_v_a: 0.1562\n"
     ]
    },
    {
     "name": "stderr",
     "output_type": "stream",
     "text": [
      "\n"
     ]
    }
   ],
   "source": [
    "# Simulate command-line arguments for loading the model\n",
    "sys.argv = ['script_name', '--order_3_tensor', \n",
    "            '--simtype', 'MISA', \n",
    "            '--placesAudio', '$DATA/PlacesAudio_400k_distro/metadata/',\n",
    "            '--batch_size', \"32\", \n",
    "            '--n_threads', '0',\n",
    "            '--val_video_idx', '10']\n",
    "\n",
    "args = get_arguments()\n",
    "\n",
    "models = [\n",
    "    {\"model_name\": \"SSL_TIE_PlacesAudio-lr1e-5-2ly-B128-SISA-1GPUS-wV\", \"epoch\": 13},\n",
    "    {\"model_name\": \"SSL_TIE_PlacesAudio_lr1e-5-2ly-B32-MISA\", \"epoch\": 100},\n",
    "    {\"model_name\": \"SSL_TIE_PlacesAudio_lr1e-5-2ly-B128-MISA\", \"epoch\": 100},\n",
    "    {\"model_name\": \"SSL_TIE_PlacesAudio_lr1e-5-2ly-B256-MISA\", \"epoch\": 100},\n",
    "    {\"model_name\": \"SSL_TIE_PlacesAudio_lr1e-5-2ly-B128-SISA\", \"epoch\": 100},\n",
    "    {\"model_name\": \"SSL_TIE_PlacesAudio_lr1e-3-2ly-B128-SISA\", \"epoch\": 39},\n",
    "    {\"model_name\": \"SSL_TIE_PlacesAudio_lr1e-4-2ly-B32-MISA\", \"epoch\": 100},\n",
    "]\n",
    "\n",
    "# remote_path = f'/home/asantos/models/to_test/{model[\"model_name\"]}-epoch{model[\"epoch\"]}.pth.tar'\n",
    "# u.load_model()\n",
    "model_path = models[0]\n",
    "model_path = f'/home/asantos/models/to_test/{model_path[\"model_name\"]}-epoch{model_path[\"epoch\"]}.pth.tar'\n",
    "\n",
    "model,device = u.load_model(model_path,args)\n",
    "\n",
    "val_dataset = PlacesAudio(args.placesAudio + 'val.json', args,mode='val')\n",
    "\n",
    "val_loader = DataLoader(val_dataset, batch_size=args.batch_size, shuffle=False,\\\n",
    "        num_workers=args.n_threads, drop_last=True, pin_memory=True)\n",
    "\n",
    "results = {}\n",
    "for model_info in models:\n",
    "    model_path = f'/home/asantos/models/to_test/{model_info[\"model_name\"]}-epoch{model_info[\"epoch\"]}.pth.tar'\n",
    "    model, device = u.load_model(model_path, args)\n",
    "    print(f'Validating model: {model_info[\"model_name\"]}, Epoch: {model_info[\"epoch\"]}')\n",
    "    loss, acc_a_v, acc_v_a = validate(val_loader, model, None, device, epoch=model_info[\"epoch\"], args=args)\n",
    "    print(f'Loss: {loss:.4f}, Acc_a_v: {acc_a_v:.4f}, Acc_v_a: {acc_v_a:.4f}')\n",
    "    results[model_info[\"model_name\"]] = {\n",
    "        \"epoch\": model_info[\"epoch\"],\n",
    "        \"loss\": loss,\n",
    "        \"acc_a_v\": acc_a_v,\n",
    "        \"acc_v_a\": acc_v_a\n",
    "    }"
   ]
  },
  {
   "cell_type": "code",
   "execution_count": 8,
   "metadata": {},
   "outputs": [
    {
     "data": {
      "text/html": [
       "<div>\n",
       "<style scoped>\n",
       "    .dataframe tbody tr th:only-of-type {\n",
       "        vertical-align: middle;\n",
       "    }\n",
       "\n",
       "    .dataframe tbody tr th {\n",
       "        vertical-align: top;\n",
       "    }\n",
       "\n",
       "    .dataframe thead th {\n",
       "        text-align: right;\n",
       "    }\n",
       "</style>\n",
       "<table border=\"1\" class=\"dataframe\">\n",
       "  <thead>\n",
       "    <tr style=\"text-align: right;\">\n",
       "      <th></th>\n",
       "      <th>epoch</th>\n",
       "      <th>loss</th>\n",
       "      <th>acc_a_v</th>\n",
       "      <th>acc_v_a</th>\n",
       "    </tr>\n",
       "  </thead>\n",
       "  <tbody>\n",
       "    <tr>\n",
       "      <th>SSL_TIE_PlacesAudio_lr1e-5-2ly-B128-SISA</th>\n",
       "      <td>100.0</td>\n",
       "      <td>5.398741</td>\n",
       "      <td>0.275202</td>\n",
       "      <td>0.183468</td>\n",
       "    </tr>\n",
       "    <tr>\n",
       "      <th>SSL_TIE_PlacesAudio_lr1e-5-2ly-B128-MISA</th>\n",
       "      <td>100.0</td>\n",
       "      <td>4.528646</td>\n",
       "      <td>0.270161</td>\n",
       "      <td>0.232863</td>\n",
       "    </tr>\n",
       "    <tr>\n",
       "      <th>SSL_TIE_PlacesAudio_lr1e-5-2ly-B256-MISA</th>\n",
       "      <td>100.0</td>\n",
       "      <td>4.520318</td>\n",
       "      <td>0.257056</td>\n",
       "      <td>0.221774</td>\n",
       "    </tr>\n",
       "    <tr>\n",
       "      <th>SSL_TIE_PlacesAudio-lr1e-5-2ly-B128-SISA-1GPUS-wV</th>\n",
       "      <td>13.0</td>\n",
       "      <td>3.928914</td>\n",
       "      <td>0.287298</td>\n",
       "      <td>0.215726</td>\n",
       "    </tr>\n",
       "    <tr>\n",
       "      <th>SSL_TIE_PlacesAudio_lr1e-3-2ly-B128-SISA</th>\n",
       "      <td>39.0</td>\n",
       "      <td>3.465736</td>\n",
       "      <td>0.156250</td>\n",
       "      <td>0.156250</td>\n",
       "    </tr>\n",
       "    <tr>\n",
       "      <th>SSL_TIE_PlacesAudio_lr1e-4-2ly-B32-MISA</th>\n",
       "      <td>100.0</td>\n",
       "      <td>3.465736</td>\n",
       "      <td>0.156250</td>\n",
       "      <td>0.156250</td>\n",
       "    </tr>\n",
       "    <tr>\n",
       "      <th>SSL_TIE_PlacesAudio_lr1e-5-2ly-B32-MISA</th>\n",
       "      <td>100.0</td>\n",
       "      <td>3.315941</td>\n",
       "      <td>0.478831</td>\n",
       "      <td>0.439516</td>\n",
       "    </tr>\n",
       "  </tbody>\n",
       "</table>\n",
       "</div>"
      ],
      "text/plain": [
       "                                                   epoch      loss   acc_a_v  \\\n",
       "SSL_TIE_PlacesAudio_lr1e-5-2ly-B128-SISA           100.0  5.398741  0.275202   \n",
       "SSL_TIE_PlacesAudio_lr1e-5-2ly-B128-MISA           100.0  4.528646  0.270161   \n",
       "SSL_TIE_PlacesAudio_lr1e-5-2ly-B256-MISA           100.0  4.520318  0.257056   \n",
       "SSL_TIE_PlacesAudio-lr1e-5-2ly-B128-SISA-1GPUS-wV   13.0  3.928914  0.287298   \n",
       "SSL_TIE_PlacesAudio_lr1e-3-2ly-B128-SISA            39.0  3.465736  0.156250   \n",
       "SSL_TIE_PlacesAudio_lr1e-4-2ly-B32-MISA            100.0  3.465736  0.156250   \n",
       "SSL_TIE_PlacesAudio_lr1e-5-2ly-B32-MISA            100.0  3.315941  0.478831   \n",
       "\n",
       "                                                    acc_v_a  \n",
       "SSL_TIE_PlacesAudio_lr1e-5-2ly-B128-SISA           0.183468  \n",
       "SSL_TIE_PlacesAudio_lr1e-5-2ly-B128-MISA           0.232863  \n",
       "SSL_TIE_PlacesAudio_lr1e-5-2ly-B256-MISA           0.221774  \n",
       "SSL_TIE_PlacesAudio-lr1e-5-2ly-B128-SISA-1GPUS-wV  0.215726  \n",
       "SSL_TIE_PlacesAudio_lr1e-3-2ly-B128-SISA           0.156250  \n",
       "SSL_TIE_PlacesAudio_lr1e-4-2ly-B32-MISA            0.156250  \n",
       "SSL_TIE_PlacesAudio_lr1e-5-2ly-B32-MISA            0.439516  "
      ]
     },
     "execution_count": 8,
     "metadata": {},
     "output_type": "execute_result"
    }
   ],
   "source": [
    "import pandas as pd\n",
    "\n",
    "df = pd.DataFrame(results)\n",
    "df = df.transpose()\n",
    "df.sort_values(by='loss', ascending=False, inplace=True)\n",
    "df"
   ]
  },
  {
   "cell_type": "code",
   "execution_count": null,
   "metadata": {},
   "outputs": [],
   "source": []
  },
  {
   "cell_type": "code",
   "execution_count": null,
   "metadata": {},
   "outputs": [],
   "source": []
  }
 ],
 "metadata": {
  "kernelspec": {
   "display_name": "ssl-cpu",
   "language": "python",
   "name": "python3"
  },
  "language_info": {
   "codemirror_mode": {
    "name": "ipython",
    "version": 3
   },
   "file_extension": ".py",
   "mimetype": "text/x-python",
   "name": "python",
   "nbconvert_exporter": "python",
   "pygments_lexer": "ipython3",
   "version": "3.8.20"
  }
 },
 "nbformat": 4,
 "nbformat_minor": 2
}
